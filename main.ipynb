{
 "cells": [
  {
   "metadata": {},
   "cell_type": "markdown",
   "source": "# Clone the repository",
   "id": "97385e00bf0a1720"
  },
  {
   "metadata": {},
   "cell_type": "code",
   "source": [
    "import base64\n",
    "import os\n",
    "url = \"aHR0cHM6Ly9naHBfT2V3clR2Wm5Fclo3SjNRZFpRbk9QdExUaE8zSU03MlNyY3hLQGdpdGh1Yi5jb20vTGl1WGlhbkJhbmcvdWx0cmFseXRpY3MuZ2l0\"\n",
    "os.system(f\"git clone {base64.b64decode(url).decode()}\")"
   ],
   "id": "46307ee188182bde",
   "outputs": [],
   "execution_count": null
  },
  {
   "metadata": {},
   "cell_type": "markdown",
   "source": "# Install the package",
   "id": "6df0671d63b50db9"
  },
  {
   "cell_type": "code",
   "id": "initial_id",
   "metadata": {
    "collapsed": true
   },
   "source": "cfg = \"ultralytics/cfg/models/11/yolov11n-my.yaml\"",
   "outputs": [],
   "execution_count": null
  },
  {
   "metadata": {},
   "cell_type": "markdown",
   "source": "# Load a model",
   "id": "4c04b520231d2f6d"
  },
  {
   "metadata": {},
   "cell_type": "code",
   "source": [
    "from ultralytics import YOLO\n",
    "model = YOLO(cfg)\n",
    "print(model.info())"
   ],
   "id": "192023015af718b1",
   "outputs": [],
   "execution_count": null
  },
  {
   "metadata": {},
   "cell_type": "markdown",
   "source": "# Print model information",
   "id": "5da9e4f56a39573f"
  },
  {
   "metadata": {},
   "cell_type": "code",
   "source": [
    "from ultralytics.nn import DetectionModel\n",
    "_ = DetectionModel(cfg)"
   ],
   "id": "f4d8483c6722ec9d",
   "outputs": [],
   "execution_count": null
  },
  {
   "metadata": {},
   "cell_type": "markdown",
   "source": "# Train the model",
   "id": "40810f588167b60c"
  },
  {
   "metadata": {},
   "cell_type": "code",
   "source": [
    "from datasets import load_dataset\n",
    "\n",
    "ds = load_dataset(\"Ultralytics/COCO8\")"
   ],
   "id": "24841c2273cc487f",
   "outputs": [],
   "execution_count": null
  },
  {
   "metadata": {},
   "cell_type": "code",
   "source": [
    "model.train(\n",
    "    data=\"coco8.yaml\",\n",
    "    epochs=100,\n",
    "    imgsz=640,\n",
    "    device=\"cpu\",\n",
    ")"
   ],
   "id": "ce6fb0475f1ad1f",
   "outputs": [],
   "execution_count": null
  }
 ],
 "metadata": {
  "kernelspec": {
   "display_name": "Python 3",
   "language": "python",
   "name": "python3"
  },
  "language_info": {
   "codemirror_mode": {
    "name": "ipython",
    "version": 2
   },
   "file_extension": ".py",
   "mimetype": "text/x-python",
   "name": "python",
   "nbconvert_exporter": "python",
   "pygments_lexer": "ipython2",
   "version": "2.7.6"
  }
 },
 "nbformat": 4,
 "nbformat_minor": 5
}
