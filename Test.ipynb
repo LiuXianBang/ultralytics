{
 "cells": [
  {
   "cell_type": "code",
   "id": "initial_id",
   "metadata": {
    "collapsed": true,
    "ExecuteTime": {
     "end_time": "2025-02-06T11:25:38.185568Z",
     "start_time": "2025-02-06T11:25:38.027207Z"
    }
   },
   "source": [
    "from ultralytics import YOLO\n",
    "fromModel = YOLO(\"pth/yolo11n.pt\")\n",
    "toModel = YOLO(\"ultralytics/cfg/models/11/yolo11n-MAFPN.yaml\")"
   ],
   "outputs": [],
   "execution_count": 29
  },
  {
   "metadata": {
    "ExecuteTime": {
     "end_time": "2025-02-06T11:28:59.864528Z",
     "start_time": "2025-02-06T11:28:59.443933Z"
    }
   },
   "cell_type": "code",
   "source": [
    "target_layer =[0,1,2,3,4,5,6,7,8,9,10]\n",
    "for name, param in fromModel.model.named_parameters():\n",
    "    if int(name.split('.')[1]) in target_layer:\n",
    "        if name in toModel.model.state_dict():\n",
    "            # print(\"before:\",toModel.model.state_dict()[name])\n",
    "            print(\"Copying:\",name)\n",
    "            toModel.model.state_dict()[name].copy_(param)\n",
    "            # print(\"after:\",toModel.model.state_dict()[name])"
   ],
   "id": "ed21e0fb86b12c6e",
   "outputs": [
    {
     "name": "stdout",
     "output_type": "stream",
     "text": [
      "Copying: model.0.conv.weight\n",
      "Copying: model.0.bn.weight\n",
      "Copying: model.0.bn.bias\n",
      "Copying: model.1.conv.weight\n",
      "Copying: model.1.bn.weight\n",
      "Copying: model.1.bn.bias\n",
      "Copying: model.2.cv1.conv.weight\n",
      "Copying: model.2.cv1.bn.weight\n",
      "Copying: model.2.cv1.bn.bias\n",
      "Copying: model.2.cv2.conv.weight\n",
      "Copying: model.2.cv2.bn.weight\n",
      "Copying: model.2.cv2.bn.bias\n",
      "Copying: model.2.m.0.cv1.conv.weight\n",
      "Copying: model.2.m.0.cv1.bn.weight\n",
      "Copying: model.2.m.0.cv1.bn.bias\n",
      "Copying: model.2.m.0.cv2.conv.weight\n",
      "Copying: model.2.m.0.cv2.bn.weight\n",
      "Copying: model.2.m.0.cv2.bn.bias\n",
      "Copying: model.3.conv.weight\n",
      "Copying: model.3.bn.weight\n",
      "Copying: model.3.bn.bias\n",
      "Copying: model.4.cv1.conv.weight\n",
      "Copying: model.4.cv1.bn.weight\n",
      "Copying: model.4.cv1.bn.bias\n",
      "Copying: model.4.cv2.conv.weight\n",
      "Copying: model.4.cv2.bn.weight\n",
      "Copying: model.4.cv2.bn.bias\n",
      "Copying: model.4.m.0.cv1.conv.weight\n",
      "Copying: model.4.m.0.cv1.bn.weight\n",
      "Copying: model.4.m.0.cv1.bn.bias\n",
      "Copying: model.4.m.0.cv2.conv.weight\n",
      "Copying: model.4.m.0.cv2.bn.weight\n",
      "Copying: model.4.m.0.cv2.bn.bias\n",
      "Copying: model.5.conv.weight\n",
      "Copying: model.5.bn.weight\n",
      "Copying: model.5.bn.bias\n",
      "Copying: model.6.cv1.conv.weight\n",
      "Copying: model.6.cv1.bn.weight\n",
      "Copying: model.6.cv1.bn.bias\n",
      "Copying: model.6.cv2.conv.weight\n",
      "Copying: model.6.cv2.bn.weight\n",
      "Copying: model.6.cv2.bn.bias\n",
      "Copying: model.6.m.0.cv1.conv.weight\n",
      "Copying: model.6.m.0.cv1.bn.weight\n",
      "Copying: model.6.m.0.cv1.bn.bias\n",
      "Copying: model.6.m.0.cv2.conv.weight\n",
      "Copying: model.6.m.0.cv2.bn.weight\n",
      "Copying: model.6.m.0.cv2.bn.bias\n",
      "Copying: model.6.m.0.cv3.conv.weight\n",
      "Copying: model.6.m.0.cv3.bn.weight\n",
      "Copying: model.6.m.0.cv3.bn.bias\n",
      "Copying: model.6.m.0.m.0.cv1.conv.weight\n",
      "Copying: model.6.m.0.m.0.cv1.bn.weight\n",
      "Copying: model.6.m.0.m.0.cv1.bn.bias\n",
      "Copying: model.6.m.0.m.0.cv2.conv.weight\n",
      "Copying: model.6.m.0.m.0.cv2.bn.weight\n",
      "Copying: model.6.m.0.m.0.cv2.bn.bias\n",
      "Copying: model.6.m.0.m.1.cv1.conv.weight\n",
      "Copying: model.6.m.0.m.1.cv1.bn.weight\n",
      "Copying: model.6.m.0.m.1.cv1.bn.bias\n",
      "Copying: model.6.m.0.m.1.cv2.conv.weight\n",
      "Copying: model.6.m.0.m.1.cv2.bn.weight\n",
      "Copying: model.6.m.0.m.1.cv2.bn.bias\n",
      "Copying: model.7.conv.weight\n",
      "Copying: model.7.bn.weight\n",
      "Copying: model.7.bn.bias\n",
      "Copying: model.8.cv1.conv.weight\n",
      "Copying: model.8.cv1.bn.weight\n",
      "Copying: model.8.cv1.bn.bias\n",
      "Copying: model.8.cv2.conv.weight\n",
      "Copying: model.8.cv2.bn.weight\n",
      "Copying: model.8.cv2.bn.bias\n",
      "Copying: model.8.m.0.cv1.conv.weight\n",
      "Copying: model.8.m.0.cv1.bn.weight\n",
      "Copying: model.8.m.0.cv1.bn.bias\n",
      "Copying: model.8.m.0.cv2.conv.weight\n",
      "Copying: model.8.m.0.cv2.bn.weight\n",
      "Copying: model.8.m.0.cv2.bn.bias\n",
      "Copying: model.8.m.0.cv3.conv.weight\n",
      "Copying: model.8.m.0.cv3.bn.weight\n",
      "Copying: model.8.m.0.cv3.bn.bias\n",
      "Copying: model.8.m.0.m.0.cv1.conv.weight\n",
      "Copying: model.8.m.0.m.0.cv1.bn.weight\n",
      "Copying: model.8.m.0.m.0.cv1.bn.bias\n",
      "Copying: model.8.m.0.m.0.cv2.conv.weight\n",
      "Copying: model.8.m.0.m.0.cv2.bn.weight\n",
      "Copying: model.8.m.0.m.0.cv2.bn.bias\n",
      "Copying: model.8.m.0.m.1.cv1.conv.weight\n",
      "Copying: model.8.m.0.m.1.cv1.bn.weight\n",
      "Copying: model.8.m.0.m.1.cv1.bn.bias\n",
      "Copying: model.8.m.0.m.1.cv2.conv.weight\n",
      "Copying: model.8.m.0.m.1.cv2.bn.weight\n",
      "Copying: model.8.m.0.m.1.cv2.bn.bias\n",
      "Copying: model.9.cv1.conv.weight\n",
      "Copying: model.9.cv1.bn.weight\n",
      "Copying: model.9.cv1.bn.bias\n",
      "Copying: model.9.cv2.conv.weight\n",
      "Copying: model.9.cv2.bn.weight\n",
      "Copying: model.9.cv2.bn.bias\n",
      "Copying: model.10.cv1.conv.weight\n",
      "Copying: model.10.cv1.bn.weight\n",
      "Copying: model.10.cv1.bn.bias\n",
      "Copying: model.10.cv2.conv.weight\n",
      "Copying: model.10.cv2.bn.weight\n",
      "Copying: model.10.cv2.bn.bias\n",
      "Copying: model.10.m.0.attn.qkv.conv.weight\n",
      "Copying: model.10.m.0.attn.qkv.bn.weight\n",
      "Copying: model.10.m.0.attn.qkv.bn.bias\n",
      "Copying: model.10.m.0.attn.proj.conv.weight\n",
      "Copying: model.10.m.0.attn.proj.bn.weight\n",
      "Copying: model.10.m.0.attn.proj.bn.bias\n",
      "Copying: model.10.m.0.attn.pe.conv.weight\n",
      "Copying: model.10.m.0.attn.pe.bn.weight\n",
      "Copying: model.10.m.0.attn.pe.bn.bias\n",
      "Copying: model.10.m.0.ffn.0.conv.weight\n",
      "Copying: model.10.m.0.ffn.0.bn.weight\n",
      "Copying: model.10.m.0.ffn.0.bn.bias\n",
      "Copying: model.10.m.0.ffn.1.conv.weight\n",
      "Copying: model.10.m.0.ffn.1.bn.weight\n",
      "Copying: model.10.m.0.ffn.1.bn.bias\n"
     ]
    }
   ],
   "execution_count": 32
  },
  {
   "metadata": {},
   "cell_type": "markdown",
   "source": "# Save the model",
   "id": "e0b327fe4d1bad70"
  },
  {
   "metadata": {
    "ExecuteTime": {
     "end_time": "2025-02-06T11:30:39.245432Z",
     "start_time": "2025-02-06T11:30:39.145030Z"
    }
   },
   "cell_type": "code",
   "source": "toModel.save(\"pth/yolo11n-MAFPN.pt\")",
   "id": "38c7e64ad894f379",
   "outputs": [],
   "execution_count": 33
  }
 ],
 "metadata": {
  "kernelspec": {
   "display_name": "Python 3",
   "language": "python",
   "name": "python3"
  },
  "language_info": {
   "codemirror_mode": {
    "name": "ipython",
    "version": 2
   },
   "file_extension": ".py",
   "mimetype": "text/x-python",
   "name": "python",
   "nbconvert_exporter": "python",
   "pygments_lexer": "ipython2",
   "version": "2.7.6"
  }
 },
 "nbformat": 4,
 "nbformat_minor": 5
}
